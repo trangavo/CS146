{
 "cells": [
  {
   "cell_type": "code",
   "execution_count": 2,
   "metadata": {},
   "outputs": [
    {
     "name": "stdout",
     "output_type": "stream",
     "text": [
      "0.9937850000000001\n"
     ]
    }
   ],
   "source": [
    "# Problem 3\n",
    "import numpy as np\n",
    "def check_prob(mean, std, size):\n",
    "    tot_count = 0\n",
    "    for i in range(10):\n",
    "        x = np.random.normal(mean, std, size)\n",
    "        y = []\n",
    "        for each in x:\n",
    "            y.append(each**3+2*each+1)\n",
    "        count = 0\n",
    "        for each in y:\n",
    "            if each > 1:\n",
    "                count += 1\n",
    "        tot_count += count/size\n",
    "    return(tot_count/10)\n",
    "print(check_prob(2, 0.8, 100000))\n"
   ]
  },
  {
   "cell_type": "code",
   "execution_count": 44,
   "metadata": {},
   "outputs": [
    {
     "name": "stdout",
     "output_type": "stream",
     "text": [
      "0.055597 0.055706 0.50084\n"
     ]
    }
   ],
   "source": [
    "# Problem 7\n",
    "count1 = 0\n",
    "count2 = 0\n",
    "count3 = 0\n",
    "for i in range(1000000):\n",
    "    x = random.uniform(0, 1, 18)\n",
    "    if min(x) == x[0]:\n",
    "        count1 += 1\n",
    "    if max(x) == x[0]:\n",
    "        count2 += 1\n",
    "    if sorted(x).index(x[0]) >= len(x) // 2:\n",
    "        count3 += 1\n",
    "print(count1 / 1000000, count2 / 1000000, count3 / 1000000)\n"
   ]
  },
  {
   "cell_type": "code",
   "execution_count": null,
   "metadata": {},
   "outputs": [],
   "source": []
  }
 ],
 "metadata": {
  "kernelspec": {
   "display_name": "Python 3",
   "language": "python",
   "name": "python3"
  },
  "language_info": {
   "codemirror_mode": {
    "name": "ipython",
    "version": 3
   },
   "file_extension": ".py",
   "mimetype": "text/x-python",
   "name": "python",
   "nbconvert_exporter": "python",
   "pygments_lexer": "ipython3",
   "version": "3.6.8"
  }
 },
 "nbformat": 4,
 "nbformat_minor": 2
}
