{
 "cells": [
  {
   "cell_type": "code",
   "execution_count": 21,
   "metadata": {},
   "outputs": [],
   "source": [
    "import scipy.stats as sts\n",
    "import numpy as np\n",
    "import pandas as pd\n",
    "import matplotlib.pyplot as plt"
   ]
  },
  {
   "cell_type": "code",
   "execution_count": 32,
   "metadata": {},
   "outputs": [
    {
     "name": "stdout",
     "output_type": "stream",
     "text": [
      "          father           son  count\n",
      "0           farm          farm    703\n",
      "1           farm     unskilled   1478\n",
      "2           farm       skilled   1430\n",
      "3           farm  professional   1109\n",
      "4      unskilled          farm     58\n",
      "5      unskilled     unskilled   1756\n",
      "6      unskilled       skilled   1630\n",
      "7      unskilled  professional   1568\n",
      "8        skilled          farm     63\n",
      "9        skilled     unskilled   1453\n",
      "10       skilled       skilled   2068\n",
      "11       skilled  professional   2483\n",
      "12  professional          farm     61\n",
      "13  professional     unskilled    749\n",
      "14  professional       skilled   1183\n",
      "15  professional  professional   3315\n",
      "Number of categories: 16\n",
      "Number of observations for each category: [703, 1478, 1430, 1109, 58, 1756, 1630, 1568, 63, 1453, 2068, 2483, 61, 749, 1183, 3315]\n"
     ]
    }
   ],
   "source": [
    "file_path = '/Users/trangnguyenvn1398/Desktop/Fall 2019/CS146/socialmobility.csv'\n",
    "data_set = pd.read_csv(file_path)\n",
    "print(data_set)\n",
    "print('Number of categories: ' + str(len(data_set)))\n",
    "print('Number of observations for each category: ' + str(list(data_set['count'])))"
   ]
  },
  {
   "cell_type": "code",
   "execution_count": 62,
   "metadata": {},
   "outputs": [],
   "source": [
    "def dirichlet_posterior(prior, counts, sample_size):\n",
    "    posterior = prior + counts\n",
    "    dirichlet = sts.dirichlet(posterior)\n",
    "    samples = dirichlet.rvs(size = sample_size)\n",
    "    return samples, samples.sum(axis=1), dirichlet.pdf(samples.transpose())"
   ]
  },
  {
   "cell_type": "code",
   "execution_count": 63,
   "metadata": {},
   "outputs": [],
   "source": [
    "# father and son\n",
    "prior_1 = np.array([1 for i in range(len(data_set))])\n",
    "counts_1 = np.array(data_set['count'])\n",
    "sample_size = 50\n",
    "father_and_son = dirichlet_posterior(prior_1, counts_1, sample_size)[0]"
   ]
  },
  {
   "cell_type": "code",
   "execution_count": 74,
   "metadata": {},
   "outputs": [
    {
     "name": "stdout",
     "output_type": "stream",
     "text": [
      "[4720, 5012, 6067, 5308]\n"
     ]
    }
   ],
   "source": [
    "# father_counts = {}\n",
    "# for i in ['farm', 'unskilled', 'skilled', 'professional']:\n",
    "#     father_counts[i] = np.sum(np.array(data_set['count'][np.where(data_set['father'] == i)[0]]))\n",
    "father_counts = [np.sum(np.array(data_set['count'][np.where(data_set['father'] == i)[0]])) for i in ['farm', 'unskilled', 'skilled', 'professional']]\n",
    "print(father_counts)\n",
    "prior_2 = np.array([1 for i in range(len(father_counts))])\n",
    "father = dirichlet_posterior(prior_2, father_counts, sample_size)[0]"
   ]
  },
  {
   "cell_type": "code",
   "execution_count": 65,
   "metadata": {},
   "outputs": [
    {
     "name": "stdout",
     "output_type": "stream",
     "text": [
      "[885, 5436, 6311, 8475]\n"
     ]
    }
   ],
   "source": [
    "son_counts = [np.sum(np.array(data_set['count'][np.where(data_set['son'] == i)[0]])) for i in ['farm', 'unskilled', 'skilled', 'professional']]\n",
    "print(son_counts)\n",
    "prior_3 = np.array([1 for i in range(len(son_counts))])\n",
    "son = dirichlet_posterior(prior_3, son_counts, sample_size)[0]"
   ]
  },
  {
   "cell_type": "code",
   "execution_count": 76,
   "metadata": {},
   "outputs": [
    {
     "name": "stdout",
     "output_type": "stream",
     "text": [
      "95% CI for prob. of son being skilled if father is unskilled: [0.31176209588939374, 0.34480322396242896]\n",
      "95% CI for prob. of dad being a farmer if son is a professional: [0.12354117187763707, 0.13946551294275317]\n"
     ]
    }
   ],
   "source": [
    "# son is skilled given father is unskilled\n",
    "prob_1 = np.array([father_and_son[i][6] for i in range(sample_size)])/ np.array([father[i][1] for i in range(sample_size)])\n",
    "CI_1 = [np.percentile(prob_1, i) for i in [2.5, 97.5]]\n",
    "# dad is farm given son is professional\n",
    "prob_2 = np.array([father_and_son[i][3] for i in range(sample_size)]) / np.array([son[i][3] for i in range(sample_size)])\n",
    "CI_2 = [np.percentile(prob_2, i) for i in [2.5, 97.5]]\n",
    "print('95% CI for prob. of son being skilled if father is unskilled: ' + str(CI_1))\n",
    "print('95% CI for prob. of dad being a farmer if son is a professional: ' + str(CI_2))"
   ]
  },
  {
   "cell_type": "code",
   "execution_count": null,
   "metadata": {},
   "outputs": [],
   "source": []
  }
 ],
 "metadata": {
  "kernelspec": {
   "display_name": "Python 3",
   "language": "python",
   "name": "python3"
  },
  "language_info": {
   "codemirror_mode": {
    "name": "ipython",
    "version": 3
   },
   "file_extension": ".py",
   "mimetype": "text/x-python",
   "name": "python",
   "nbconvert_exporter": "python",
   "pygments_lexer": "ipython3",
   "version": "3.6.8"
  }
 },
 "nbformat": 4,
 "nbformat_minor": 2
}
