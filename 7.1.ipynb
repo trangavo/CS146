{
 "cells": [
  {
   "cell_type": "code",
   "execution_count": 36,
   "metadata": {},
   "outputs": [
    {
     "data": {
      "image/png": "[encoded data removed]",
      "text/plain": [
       "<matplotlib.figure.Figure at 0x1a20871630>"
      ]
     },
     "metadata": {},
     "output_type": "display_data"
    },
    {
     "name": "stdout",
     "output_type": "stream",
     "text": [
      "[-2.0, 2.0]\n"
     ]
    }
   ],
   "source": [
    "import numpy as np\n",
    "import scipy.stats as sts\n",
    "import matplotlib.pyplot as plt\n",
    "\n",
    "# part 1\n",
    "x = np.linspace(50, 160, 100)\n",
    "y = sts.norm(100, 9.4868).pdf(x)\n",
    "plt.figure(figsize=(8,6))\n",
    "plt.plot(x, y)\n",
    "plt.show()\n",
    "print([np.around(100*((sts.norm(100, 9.4868).ppf(i) - 100)/1000)) for i in [0.025, 0.975]])"
   ]
  },
  {
   "cell_type": "markdown",
   "metadata": {},
   "source": [
    "It's appropriate to use binomial distribution because one voter can either vote yes or no for one candidate, and we have a lot of voters."
   ]
  },
  {
   "cell_type": "code",
   "execution_count": 37,
   "metadata": {},
   "outputs": [],
   "source": [
    "# part 2\n",
    "def survey_error(n, p, percentile):\n",
    "    mean = n*p\n",
    "    std = (n*p*(1-p))**(1/2)\n",
    "#     x = np.linspace(mean-50, mean+50, 100)\n",
    "#     y = sts.norm(mean, std).pdf(x)\n",
    "#     plt.figure(figsize=(8,6))\n",
    "#     plt.plot(x, y)\n",
    "#     plt.show()\n",
    "#     return 100 * (sts.norm(mean, std).ppf(percentile) - mean)/n\n",
    "    return np.round(100 * (sts.norm(mean, std).ppf(percentile) - mean)/n)"
   ]
  },
  {
   "cell_type": "code",
   "execution_count": 38,
   "metadata": {},
   "outputs": [
    {
     "name": "stdout",
     "output_type": "stream",
     "text": [
      "[[2.0, 2.0, 3.0, 4.0, 6.0], [2.0, 3.0, 3.0, 5.0, 8.0], [3.0, 3.0, 4.0, 6.0, 9.0], [3.0, 3.0, 4.0, 6.0, 9.0], [3.0, 4.0, 4.0, 6.0, 10.0], [3.0, 4.0, 4.0, 6.0, 10.0], [3.0, 3.0, 4.0, 6.0, 9.0], [3.0, 3.0, 4.0, 6.0, 9.0], [2.0, 3.0, 3.0, 5.0, 8.0]]\n"
     ]
    }
   ],
   "source": [
    "error_table = [[] for i in range(9)]\n",
    "ls = range(10, 100, 9)\n",
    "for i in range(9):\n",
    "    for j in [1000, 750, 500, 250, 100]:\n",
    "        error_table[i].append(survey_error(j, ls[i]/100, 0.975))\n",
    "print(error_table)"
   ]
  },
  {
   "cell_type": "code",
   "execution_count": 39,
   "metadata": {},
   "outputs": [],
   "source": [
    "# part 3"
   ]
  },
  {
   "cell_type": "markdown",
   "metadata": {},
   "source": [
    "A lot of entries differ from the ones in the given table, all by one point (1%). This can be because of the different ways of calculating these errors. For example, we used normal approximation to binomial distribution, while they might have used a different method."
   ]
  }
 ],
 "metadata": {
  "kernelspec": {
   "display_name": "Python 3",
   "language": "python",
   "name": "python3"
  },
  "language_info": {
   "codemirror_mode": {
    "name": "ipython",
    "version": 3
   },
   "file_extension": ".py",
   "mimetype": "text/x-python",
   "name": "python",
   "nbconvert_exporter": "python",
   "pygments_lexer": "ipython3",
   "version": "3.6.8"
  }
 },
 "nbformat": 4,
 "nbformat_minor": 2
}
